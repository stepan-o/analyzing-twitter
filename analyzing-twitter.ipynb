{
 "cells": [
  {
   "cell_type": "markdown",
   "metadata": {},
   "source": [
    "# Analyzing Twitter data"
   ]
  },
  {
   "cell_type": "markdown",
   "metadata": {},
   "source": [
    "## Collecting data through the Twitter API"
   ]
  },
  {
   "cell_type": "markdown",
   "metadata": {},
   "source": [
    "APIs, or Application Programming Interfaces, are methods of accessing data from business of government organization."
   ]
  },
  {
   "cell_type": "markdown",
   "metadata": {},
   "source": [
    "### Twitter APIs"
   ]
  },
  {
   "cell_type": "markdown",
   "metadata": {},
   "source": [
    "Twitter has multiple APIs which can be used for different purposes. These change from time to time and Twitter sometimes adds or removes APIs.\n",
    "\n",
    "Twitter APIs include:\n",
    "\n",
    "* Search API (allows access to tweets for the past week)\n",
    "\n",
    "* Ads API (focuses on Twitter adds)\n",
    "\n",
    "* Streaming API (allows to collect a sample of tweets in real-time based on keywords, user IDs, and locations)"
   ]
  },
  {
   "cell_type": "markdown",
   "metadata": {},
   "source": [
    "### Streaming API\n",
    "\n",
    "Streaming API allows you to collect a sample of tweets in real-time based on keywords, user IDs, and locations.\n",
    "\n",
    "The connection to streaming API remains open until you close it.\n",
    "\n",
    "The streaming API has 2 endpoints:\n",
    "\n",
    "**filter endpoint:**\n",
    "\n",
    "* keywords (few hundred)\n",
    "   \n",
    "* usernames (a few thousands)\n",
    "    \n",
    "* location ranges (25)\n",
    "\n",
    "\n",
    "**sample endpoint:**\n",
    "\n",
    "* random 1% sample of all of Twitter"
   ]
  },
  {
   "cell_type": "markdown",
   "metadata": {},
   "source": [
    "### Collecting data from Streaming API using `tweepy`\n",
    "\n",
    "To collect data from streaming API you can use a package called `tweepy`\n",
    "\n",
    "`tweepy` abstract away much of the work we need to set up a stable Twitter Streaming API connection."
   ]
  },
  {
   "cell_type": "code",
   "execution_count": null,
   "metadata": {},
   "outputs": [],
   "source": []
  }
 ],
 "metadata": {
  "kernelspec": {
   "display_name": "Python 3",
   "language": "python",
   "name": "python3"
  },
  "language_info": {
   "codemirror_mode": {
    "name": "ipython",
    "version": 3
   },
   "file_extension": ".py",
   "mimetype": "text/x-python",
   "name": "python",
   "nbconvert_exporter": "python",
   "pygments_lexer": "ipython3",
   "version": "3.6.5"
  },
  "toc": {
   "base_numbering": 1,
   "nav_menu": {},
   "number_sections": true,
   "sideBar": true,
   "skip_h1_title": true,
   "title_cell": "Table of Contents",
   "title_sidebar": "Contents",
   "toc_cell": false,
   "toc_position": {},
   "toc_section_display": true,
   "toc_window_display": true
  }
 },
 "nbformat": 4,
 "nbformat_minor": 2
}
