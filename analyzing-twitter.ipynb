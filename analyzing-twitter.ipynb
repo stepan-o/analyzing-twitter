{
 "cells": [
  {
   "cell_type": "markdown",
   "metadata": {},
   "source": [
    "# Analyzing Twitter data\n",
    "\n",
    "These notes are based on a course [Analyzing Social Media in Python](https://www.datacamp.com/courses/analyzing-social-media-data-in-python) offered by [DataCamp](https://www.datacamp.com/home)."
   ]
  },
  {
   "cell_type": "markdown",
   "metadata": {},
   "source": [
    "## Collecting data through the Twitter API"
   ]
  },
  {
   "cell_type": "markdown",
   "metadata": {},
   "source": [
    "APIs, or Application Programming Interfaces, are methods of accessing data from business of government organization."
   ]
  },
  {
   "cell_type": "markdown",
   "metadata": {},
   "source": [
    "### Twitter APIs"
   ]
  },
  {
   "cell_type": "markdown",
   "metadata": {},
   "source": [
    "Twitter has multiple APIs which can be used for different purposes. These change from time to time and Twitter sometimes adds or removes APIs.\n",
    "\n",
    "Twitter APIs include:\n",
    "\n",
    "* REST API (Representational State Transfer). Twitter's REST API allows the user to \"read and write Twitter data\". \n",
    "\n",
    "* Search API (allows access to tweets for the past week)\n",
    "\n",
    "* Ads API (focuses on Twitter adds)\n",
    "\n",
    "* Streaming API (allows to collect a sample of tweets in real-time based on keywords, user IDs, and locations)"
   ]
  },
  {
   "cell_type": "markdown",
   "metadata": {},
   "source": [
    "### Streaming API\n",
    "\n",
    "**Streaming API** allows you to collect a sample of tweets in **real-time** based on keywords, user IDs, and locations. \n",
    "\n",
    "In particular, we can use the **public stream**, which Twitter's API documentation states \"streams of the public data flowing through Twitter\". The public stream itself contains a number of options. As we want to read and process tweets, we'll want to use the GET statuses/sample API, which \"Returns a small random sample of all public statuses.\"\n",
    "\n",
    "If you wanted to access absolutely all public statuses, you would need to use Twitter's Firehose API, which is not publicly available, and would most likely cost you a pretty penny.\n",
    "\n",
    "The connection to streaming API remains open until you close it.\n",
    "\n",
    "The streaming API has 2 endpoints:\n",
    "\n",
    "**filter endpoint:**\n",
    "\n",
    "* keywords (few hundred)\n",
    "   \n",
    "* usernames (a few thousands)\n",
    "    \n",
    "* location ranges (25)\n",
    "\n",
    "\n",
    "**sample endpoint:**\n",
    "\n",
    "* random 1% sample of all of Twitter"
   ]
  },
  {
   "cell_type": "markdown",
   "metadata": {},
   "source": [
    "### Collecting data from Streaming API using `tweepy`\n",
    "\n",
    "To collect data from streaming API you can use a package called `tweepy`\n",
    "\n",
    "`tweepy` abstract away much of the work we need to set up a stable Twitter Streaming API connection.\n",
    "\n",
    "`tweepy` requires an object called `SListener` which tells it how to handle incoming data."
   ]
  },
  {
   "cell_type": "markdown",
   "metadata": {},
   "source": [
    "#### Initializing Twitter API via OAuth\n",
    "\n",
    "OAuthentification, the authentification protocol which the Twitter API uses, requires 4 tokens which can be obtained from [Twitter developer](https://developer.twitter.com/en.html) site:\n",
    "\n",
    "* consumer key\n",
    "\n",
    "* consumer secret\n",
    "\n",
    "* access token\n",
    "\n",
    "* access token secret\n",
    "\n",
    "We pass our consumer key and consumer secret to '`OAuthHandler'`, and then set the access token and the access token secret.\n",
    "\n",
    "Finally, the `'auth'` object (OAuthHandler instance) needs to be passed to the `tweepy` `'API'` object."
   ]
  },
  {
   "cell_type": "markdown",
   "metadata": {},
   "source": [
    "#### Function to connect to Twitter API"
   ]
  },
  {
   "cell_type": "code",
   "execution_count": 17,
   "metadata": {},
   "outputs": [],
   "source": [
    "from tweepy import OAuthHandler, API, Cursor\n",
    "import json\n",
    "\n",
    "def twitter_connect():\n",
    "    \"\"\"\n",
    "    establishes connection to Twitter API and returns an instance of API\n",
    "    :return: auth, api -- an instance of OAuthHandler and of an API\n",
    "    \"\"\"\n",
    "    # access credentials for Twitter API\n",
    "    access_token = ''\n",
    "    access_token_secret = ''\n",
    "    consumer_key = ''\n",
    "    consumer_secret = ''\n",
    "\n",
    "    # initialize OAuthHandler from tweepy\n",
    "    auth = OAuthHandler(consumer_key, consumer_secret)\n",
    "    print(\"---OAuthhandler initialized...\")\n",
    "    auth.set_access_token(access_token, access_token_secret)\n",
    "    print(\"Access token set.\")\n",
    "\n",
    "    # open a new API connection\n",
    "    api = API(auth)\n",
    "    print(\"---An API is initialized...\")\n",
    "\n",
    "    # print tweets from my own timeline\n",
    "    print(\"Tweets from my own timeline:\")\n",
    "    for tweet in Cursor(api.user_timeline).items(3):\n",
    "        # process a single status\n",
    "        print(tweet.text)\n",
    "\n",
    "    return auth, api\n"
   ]
  },
  {
   "cell_type": "code",
   "execution_count": 18,
   "metadata": {},
   "outputs": [
    {
     "name": "stdout",
     "output_type": "stream",
     "text": [
      "---OAuthhandler initialized...\n",
      "Access token set.\n",
      "---An API is initialized...\n",
      "Tweets from my own timeline:\n",
      "Медузы и жопы: https://t.co/t7R6Wbtd4v\n"
     ]
    }
   ],
   "source": [
    "auth, api = twitter_connect()"
   ]
  },
  {
   "cell_type": "markdown",
   "metadata": {},
   "source": [
    "#### Retriving your own Twitter data\n",
    "\n",
    "The following contents are borrowed from Marco Bonzanini's blog which can be found here [here](https://marcobonzanini.com/2015/03/02/mining-twitter-data-with-python-part-1/).\n",
    "\n",
    "Tweepy provides the convenient **Cursor interface** to iterate through different types of objects. We’re using 10 to limit the number of tweets we’re reading, but we can of course access more. \n",
    "\n",
    "The **status variable** is an instance of the Status() class, a **nice wrapper to access the data**. The **JSON response** from the Twitter API is **available in the attribute \\_json** (with a leading underscore), which is _not the raw JSON string, but a dictionary_."
   ]
  },
  {
   "cell_type": "markdown",
   "metadata": {},
   "source": [
    "##### Retrieving your own home timeline"
   ]
  },
  {
   "cell_type": "code",
   "execution_count": 19,
   "metadata": {},
   "outputs": [
    {
     "name": "stdout",
     "output_type": "stream",
     "text": [
      "While high-speed trains are struggling to gain a foothold in some parts of the world, France’s superfast rail servi… https://t.co/RudMt4XLQ5\n",
      "Science explains why hipsters all end up looking the same. https://t.co/c4jR9yKrj2\n",
      "The backlash to the HQ2 process shows we need to put incentives behind us, @Richard_Florida writes—but that’s just… https://t.co/gWPIL6zxRw\n"
     ]
    }
   ],
   "source": [
    "for status in Cursor(api.home_timeline).items(3):\n",
    "    # process a single status\n",
    "    print(status.text)"
   ]
  },
  {
   "cell_type": "markdown",
   "metadata": {},
   "source": [
    "##### Retrieving your own tweets"
   ]
  },
  {
   "cell_type": "code",
   "execution_count": 13,
   "metadata": {},
   "outputs": [
    {
     "name": "stdout",
     "output_type": "stream",
     "text": [
      "Медузы и жопы: https://t.co/t7R6Wbtd4v\n"
     ]
    }
   ],
   "source": [
    "for tweet in Cursor(api.user_timeline).items(3):\n",
    "    # process a single status\n",
    "    print(tweet.text)"
   ]
  },
  {
   "cell_type": "markdown",
   "metadata": {},
   "source": [
    "##### Process or store tweets as JSON"
   ]
  },
  {
   "cell_type": "code",
   "execution_count": 20,
   "metadata": {},
   "outputs": [],
   "source": [
    "def process_or_store(tweet):\n",
    "    \"\"\"\n",
    "    placeholder for a function to process or store tweets \n",
    "    \"\"\"\n",
    "    print(json.dumps(tweet))"
   ]
  },
  {
   "cell_type": "code",
   "execution_count": 21,
   "metadata": {},
   "outputs": [
    {
     "name": "stdout",
     "output_type": "stream",
     "text": [
      "{\"created_at\": \"Sun Feb 03 18:28:13 +0000 2019\", \"id\": 1092127633863790592, \"id_str\": \"1092127633863790592\", \"text\": \"\\u041c\\u0435\\u0434\\u0443\\u0437\\u044b \\u0438 \\u0436\\u043e\\u043f\\u044b: https://t.co/t7R6Wbtd4v\", \"truncated\": false, \"entities\": {\"hashtags\": [], \"symbols\": [], \"user_mentions\": [], \"urls\": [{\"url\": \"https://t.co/t7R6Wbtd4v\", \"expanded_url\": \"http://sunandstuff.com/mandelbrot/about/\", \"display_url\": \"sunandstuff.com/mandelbrot/abo\\u2026\", \"indices\": [15, 38]}]}, \"source\": \"<a href=\\\"http://twitter.com\\\" rel=\\\"nofollow\\\">Twitter Web Client</a>\", \"in_reply_to_status_id\": null, \"in_reply_to_status_id_str\": null, \"in_reply_to_user_id\": null, \"in_reply_to_user_id_str\": null, \"in_reply_to_screen_name\": null, \"user\": {\"id\": 826419612397031424, \"id_str\": \"826419612397031424\", \"name\": \"Stepan Oskin\", \"screen_name\": \"StepanOskin\", \"location\": \"Toronto, Ontario\", \"description\": \"\", \"url\": null, \"entities\": {\"description\": {\"urls\": []}}, \"protected\": false, \"followers_count\": 2, \"friends_count\": 48, \"listed_count\": 0, \"created_at\": \"Tue Jan 31 13:19:24 +0000 2017\", \"favourites_count\": 3, \"utc_offset\": null, \"time_zone\": null, \"geo_enabled\": false, \"verified\": false, \"statuses_count\": 1, \"lang\": \"en\", \"contributors_enabled\": false, \"is_translator\": false, \"is_translation_enabled\": false, \"profile_background_color\": \"F5F8FA\", \"profile_background_image_url\": null, \"profile_background_image_url_https\": null, \"profile_background_tile\": false, \"profile_image_url\": \"http://pbs.twimg.com/profile_images/1023558780238356481/Cmp8qxUn_normal.jpg\", \"profile_image_url_https\": \"https://pbs.twimg.com/profile_images/1023558780238356481/Cmp8qxUn_normal.jpg\", \"profile_link_color\": \"1DA1F2\", \"profile_sidebar_border_color\": \"C0DEED\", \"profile_sidebar_fill_color\": \"DDEEF6\", \"profile_text_color\": \"333333\", \"profile_use_background_image\": true, \"has_extended_profile\": true, \"default_profile\": true, \"default_profile_image\": false, \"following\": false, \"follow_request_sent\": false, \"notifications\": false, \"translator_type\": \"none\"}, \"geo\": null, \"coordinates\": null, \"place\": null, \"contributors\": null, \"is_quote_status\": false, \"retweet_count\": 0, \"favorite_count\": 0, \"favorited\": false, \"retweeted\": false, \"possibly_sensitive\": false, \"lang\": \"ru\"}\n"
     ]
    }
   ],
   "source": [
    "for tweet in Cursor(api.user_timeline).items(3):\n",
    "    # process a single status\n",
    "    process_or_store(tweet._json)"
   ]
  },
  {
   "cell_type": "markdown",
   "metadata": {},
   "source": [
    "#### Streaming"
   ]
  },
  {
   "cell_type": "markdown",
   "metadata": {},
   "source": [
    "#### Stream listener from DataCamp\n",
    "\n",
    "Can be found [here](https://github.com/SocialDataAnalytics-Winter2018/lab04/blob/master/slistener.py)"
   ]
  },
  {
   "cell_type": "markdown",
   "metadata": {},
   "source": [
    "In case we want to “keep the connection open”, and gather all the upcoming tweets about a particular event, the streaming API is what we need. We need to extend the StreamListener() to customise the way we process the incoming data. A working example that gathers all the new tweets with the #chocosol hashtag:"
   ]
  },
  {
   "cell_type": "markdown",
   "metadata": {},
   "source": [
    "##### Defining stream listener\n",
    "\n",
    "`'SListener'` object inherits from a general `'Stream Listener'` class included with `tweepy`. It opens a new timestamped file in which to store tweets and takes an optional API argument."
   ]
  },
  {
   "cell_type": "code",
   "execution_count": 8,
   "metadata": {},
   "outputs": [],
   "source": [
    "class SListener(StreamListener):\n",
    "    def __init__(self, api = None, fprefix = 'streamer'):\n",
    "        super(SListener, self).__init__()\n",
    "        self.api = api or API()\n",
    "        self.counter = 0\n",
    "        self.fprefix = fprefix\n",
    "        self.output  = open('data_streamer/%s_%s.json'\n",
    "                            % (self.fprefix, time.strftime('%Y%m%d-%H%M%S')),\n",
    "                            'w')\n",
    "\n",
    "    def on_data(self, data):\n",
    "        if 'in_reply_to_status' in data:\n",
    "            self.on_status(data)\n",
    "        elif 'delete' in data:\n",
    "            delete = json.loads(data)['delete']['status']\n",
    "            if self.on_delete(delete['id'], delete['user_id']) is False:\n",
    "                return False\n",
    "        elif 'limit' in data:\n",
    "            if self.on_limit(json.loads(data)['limit']['track']) is False:\n",
    "                return False\n",
    "        elif 'warning' in data:\n",
    "            warning = json.loads(data)['warnings']\n",
    "            print(\"WARNING: %s\" % warning['message'])\n",
    "            return\n",
    "\n",
    "    def on_status(self, status):\n",
    "        self.output.write(status)\n",
    "        self.counter += 1\n",
    "        print(\"Tweet! So far caught {0}.\".format(self.counter))\n",
    "        if self.counter >= 20000:\n",
    "            self.output.close()\n",
    "            self.output = open('data_streamer/%s_%s.json'\n",
    "                               % (self.fprefix, time.strftime('%Y%m%d-%H%M%S')),\n",
    "                               'w')\n",
    "            self.counter = 0\n",
    "        return\n",
    "\n",
    "    def on_delete(self, status_id, user_id):\n",
    "        print(\"Delete notice\")\n",
    "        return\n",
    "\n",
    "    def on_limit(self, track):\n",
    "        print(\"WARNING: Limitation notice received, tweets missed: %d\" % track)\n",
    "        return\n",
    "\n",
    "    def on_error(self, status_code):\n",
    "        print('Encountered error with status code:', status_code)\n",
    "        return\n",
    "\n",
    "    def on_timeout(self):\n",
    "        print(\"Timeout, sleeping for 60 seconds...\")\n",
    "        time.sleep(60)\n",
    "        return\n"
   ]
  },
  {
   "cell_type": "markdown",
   "metadata": {},
   "source": [
    "#### Running stream listener to collect tweets from Twitter API"
   ]
  },
  {
   "cell_type": "code",
   "execution_count": null,
   "metadata": {},
   "outputs": [],
   "source": [
    "auth, api = twitter_connect()\n",
    "\n",
    "keywords_to_track = ['#aplle', '#iphone', '#applemusic', '#ios', '#ipad', '@tim_cook', '@iPhoneinCanada',\n",
    "                     '@Apple', '@AppleSupport', '@tim_cook', '@AngelaAhrendts', '@cue', '@pschiller',\n",
    "                     '@AppleMusic', '@AppleNews', '@AppleNewsAU', '@AppleNewsUK',\n",
    "                     '@AppStore', '@AppStoreGames']\n",
    "\n",
    "# initialize a new instance of stream listener\n",
    "listen = SListener(api, fprefix='streamer_apple')\n",
    "\n",
    "# open a new Twitter Stream\n",
    "stream = Stream(auth, listen)\n",
    "print(\"\\n---New Twitter stream opened using 'SListener' as stream listener.\")\n",
    "\n",
    "# take a random sample of all of Twitter using the 'sample' endpoint\n",
    "# print(\"Streaming random 1% sample of all Twitter.\")\n",
    "# stream.sample()\n",
    "\n",
    "# track keywords\n",
    "print(\"\\n---Tracking keywords: {0}\".format(keywords_to_track))\n",
    "stream.filter(track=keywords_to_track)\n"
   ]
  },
  {
   "cell_type": "markdown",
   "metadata": {},
   "source": [
    "## Reading JSON files created by Stream Listener"
   ]
  },
  {
   "cell_type": "markdown",
   "metadata": {},
   "source": [
    "A common format in which the data is returned by an API is JSON, or Java Script Object Notation. JSON is a **special file format** that is **both human-readable and easily transferred between machines**. JSON is structured a lot like Python objects, with dictionaries and lists being the main objects. "
   ]
  },
  {
   "cell_type": "code",
   "execution_count": 27,
   "metadata": {},
   "outputs": [],
   "source": [
    "import os\n",
    "import glob"
   ]
  },
  {
   "cell_type": "code",
   "execution_count": 28,
   "metadata": {},
   "outputs": [
    {
     "data": {
      "text/plain": [
       "['.git',\n",
       " '.gitattributes',\n",
       " '.idea',\n",
       " '.ipynb_checkpoints',\n",
       " 'data_streamer',\n",
       " 'st_class.py',\n",
       " 'twitter-private.ipynb']"
      ]
     },
     "execution_count": 28,
     "metadata": {},
     "output_type": "execute_result"
    }
   ],
   "source": [
    "os.listdir()"
   ]
  },
  {
   "cell_type": "code",
   "execution_count": 35,
   "metadata": {},
   "outputs": [
    {
     "data": {
      "text/plain": [
       "['streamer_20190301-004914.json',\n",
       " 'streamer_20190301-005130.json',\n",
       " 'streamer_jetblue_20190301-005541.json',\n",
       " 'tweets_2019-02-28__22-43-02_#jetblue.json',\n",
       " 'tweets_2019-02-28__22-46-05_#jetblue.json',\n",
       " 'tweets_2019-02-28__22-50-22_#apple.json',\n",
       " 'tweets_20190228-220948.json',\n",
       " 'tweets_20190228-222508.json']"
      ]
     },
     "execution_count": 35,
     "metadata": {},
     "output_type": "execute_result"
    }
   ],
   "source": [
    "os.chdir('data_streamer')\n",
    "os.listdir()"
   ]
  },
  {
   "cell_type": "code",
   "execution_count": 38,
   "metadata": {},
   "outputs": [
    {
     "data": {
      "text/plain": [
       "['streamer_20190301-004914.json',\n",
       " 'streamer_20190301-005130.json',\n",
       " 'streamer_jetblue_20190301-005541.json',\n",
       " 'tweets_2019-02-28__22-43-02_#jetblue.json',\n",
       " 'tweets_2019-02-28__22-46-05_#jetblue.json',\n",
       " 'tweets_2019-02-28__22-50-22_#apple.json',\n",
       " 'tweets_20190228-220948.json',\n",
       " 'tweets_20190228-222508.json']"
      ]
     },
     "execution_count": 38,
     "metadata": {},
     "output_type": "execute_result"
    }
   ],
   "source": [
    "files = glob.glob('*.json', )\n",
    "files"
   ]
  },
  {
   "cell_type": "code",
   "execution_count": 67,
   "metadata": {},
   "outputs": [
    {
     "data": {
      "text/plain": [
       "9845"
      ]
     },
     "execution_count": 67,
     "metadata": {},
     "output_type": "execute_result"
    }
   ],
   "source": [
    "stream_file = 'tweets_20190228-222508.json'\n",
    "\n",
    "tweets_data = []\n",
    "\n",
    "tweets_file = open(stream_file, \"r\")\n",
    "for line in tweets_file:\n",
    "    try:\n",
    "        tweet = json.loads(line)\n",
    "        tweets_data.append(tweet)\n",
    "    except:\n",
    "        continue\n",
    "        \n",
    "\n",
    "len(tweets_data)"
   ]
  },
  {
   "cell_type": "code",
   "execution_count": 72,
   "metadata": {},
   "outputs": [],
   "source": [
    "import pandas as pd"
   ]
  },
  {
   "cell_type": "code",
   "execution_count": 75,
   "metadata": {},
   "outputs": [
    {
     "data": {
      "text/html": [
       "<div>\n",
       "<style scoped>\n",
       "    .dataframe tbody tr th:only-of-type {\n",
       "        vertical-align: middle;\n",
       "    }\n",
       "\n",
       "    .dataframe tbody tr th {\n",
       "        vertical-align: top;\n",
       "    }\n",
       "\n",
       "    .dataframe thead th {\n",
       "        text-align: right;\n",
       "    }\n",
       "</style>\n",
       "<table border=\"1\" class=\"dataframe\">\n",
       "  <thead>\n",
       "    <tr style=\"text-align: right;\">\n",
       "      <th></th>\n",
       "      <th>user</th>\n",
       "      <th>text</th>\n",
       "      <th>lang</th>\n",
       "      <th>country</th>\n",
       "    </tr>\n",
       "  </thead>\n",
       "  <tbody>\n",
       "    <tr>\n",
       "      <th>0</th>\n",
       "      <td>24blackwell_bry</td>\n",
       "      <td>Fuckkk</td>\n",
       "      <td>en</td>\n",
       "      <td>United States</td>\n",
       "    </tr>\n",
       "    <tr>\n",
       "      <th>1</th>\n",
       "      <td>TheTopFivePod</td>\n",
       "      <td>RT @Marcus_Mosher: Assuming the #Cowboys sign ...</td>\n",
       "      <td>en</td>\n",
       "      <td>None</td>\n",
       "    </tr>\n",
       "    <tr>\n",
       "      <th>2</th>\n",
       "      <td>PalandokenHasan</td>\n",
       "      <td>RT @turkpornodiyari: Olgun kafın tek erkeğin k...</td>\n",
       "      <td>tr</td>\n",
       "      <td>None</td>\n",
       "    </tr>\n",
       "    <tr>\n",
       "      <th>3</th>\n",
       "      <td>hage__hagewatas</td>\n",
       "      <td>新しいデジを買いに行こうと思ってたけど、おばちゃんがいる日に行かないと値引きしてもらえないか...</td>\n",
       "      <td>ja</td>\n",
       "      <td>None</td>\n",
       "    </tr>\n",
       "    <tr>\n",
       "      <th>4</th>\n",
       "      <td>kaoru_universe</td>\n",
       "      <td>@Nyan2E @tokotoko0840 👍</td>\n",
       "      <td>und</td>\n",
       "      <td>None</td>\n",
       "    </tr>\n",
       "  </tbody>\n",
       "</table>\n",
       "</div>"
      ],
      "text/plain": [
       "              user                                               text lang  \\\n",
       "0  24blackwell_bry                                             Fuckkk   en   \n",
       "1    TheTopFivePod  RT @Marcus_Mosher: Assuming the #Cowboys sign ...   en   \n",
       "2  PalandokenHasan  RT @turkpornodiyari: Olgun kafın tek erkeğin k...   tr   \n",
       "3  hage__hagewatas  新しいデジを買いに行こうと思ってたけど、おばちゃんがいる日に行かないと値引きしてもらえないか...   ja   \n",
       "4   kaoru_universe                            @Nyan2E @tokotoko0840 👍  und   \n",
       "\n",
       "         country  \n",
       "0  United States  \n",
       "1           None  \n",
       "2           None  \n",
       "3           None  \n",
       "4           None  "
      ]
     },
     "execution_count": 75,
     "metadata": {},
     "output_type": "execute_result"
    }
   ],
   "source": [
    "# create an empty DataFrame\n",
    "tweets = pd.DataFrame()\n",
    "\n",
    "tweets['user'] = list(map(lambda tweet: tweet['user']['screen_name'], tweets_data))\n",
    "tweets['text'] = list(map(lambda tweet: tweet['text'], tweets_data))\n",
    "tweets['lang'] = list(map(lambda tweet: tweet['lang'], tweets_data))\n",
    "tweets['country'] = list(map(lambda tweet: tweet['place']['country'] if tweet['place'] != None else None, tweets_data))\n",
    "\n",
    "tweets.head()"
   ]
  },
  {
   "cell_type": "code",
   "execution_count": 77,
   "metadata": {},
   "outputs": [],
   "source": [
    "import matplotlib.pyplot as plt"
   ]
  },
  {
   "cell_type": "code",
   "execution_count": 78,
   "metadata": {},
   "outputs": [
    {
     "data": {
      "text/plain": [
       "<matplotlib.axes._subplots.AxesSubplot at 0x190462ce7f0>"
      ]
     },
     "execution_count": 78,
     "metadata": {},
     "output_type": "execute_result"
    },
    {
     "data": {
      "image/png": "[encoded data removed]",
      "text/plain": [
       "<Figure size 432x288 with 1 Axes>"
      ]
     },
     "metadata": {},
     "output_type": "display_data"
    }
   ],
   "source": [
    "tweets_by_lang = tweets['lang'].value_counts()\n",
    "\n",
    "fig, ax = plt.subplots()\n",
    "ax.tick_params(axis='x', labelsize=15)\n",
    "ax.tick_params(axis='y', labelsize=10)\n",
    "ax.set_xlabel('Languages', fontsize=15)\n",
    "ax.set_ylabel('Number of tweets' , fontsize=15)\n",
    "ax.set_title('Top 5 languages', fontsize=15, fontweight='bold')\n",
    "tweets_by_lang[:5].plot(ax=ax, kind='bar', color='red')"
   ]
  },
  {
   "cell_type": "code",
   "execution_count": 79,
   "metadata": {},
   "outputs": [
    {
     "data": {
      "text/plain": [
       "<matplotlib.axes._subplots.AxesSubplot at 0x19046630be0>"
      ]
     },
     "execution_count": 79,
     "metadata": {},
     "output_type": "execute_result"
    },
    {
     "data": {
      "image/png": "[encoded data removed]",
      "text/plain": [
       "<Figure size 432x288 with 1 Axes>"
      ]
     },
     "metadata": {},
     "output_type": "display_data"
    }
   ],
   "source": [
    "tweets_by_country = tweets['country'].value_counts()\n",
    "\n",
    "fig, ax = plt.subplots()\n",
    "ax.tick_params(axis='x', labelsize=15)\n",
    "ax.tick_params(axis='y', labelsize=10)\n",
    "ax.set_xlabel('Countries', fontsize=15)\n",
    "ax.set_ylabel('Number of tweets' , fontsize=15)\n",
    "ax.set_title('Top 5 countries', fontsize=15, fontweight='bold')\n",
    "tweets_by_country[:5].plot(ax=ax, kind='bar', color='blue')"
   ]
  },
  {
   "cell_type": "code",
   "execution_count": null,
   "metadata": {},
   "outputs": [],
   "source": []
  }
 ],
 "metadata": {
  "kernelspec": {
   "display_name": "Python 3",
   "language": "python",
   "name": "python3"
  },
  "language_info": {
   "codemirror_mode": {
    "name": "ipython",
    "version": 3
   },
   "file_extension": ".py",
   "mimetype": "text/x-python",
   "name": "python",
   "nbconvert_exporter": "python",
   "pygments_lexer": "ipython3",
   "version": "3.6.5"
  },
  "toc": {
   "base_numbering": 1,
   "nav_menu": {},
   "number_sections": true,
   "sideBar": true,
   "skip_h1_title": true,
   "title_cell": "Table of Contents",
   "title_sidebar": "Contents",
   "toc_cell": false,
   "toc_position": {},
   "toc_section_display": true,
   "toc_window_display": true
  }
 },
 "nbformat": 4,
 "nbformat_minor": 2
}
